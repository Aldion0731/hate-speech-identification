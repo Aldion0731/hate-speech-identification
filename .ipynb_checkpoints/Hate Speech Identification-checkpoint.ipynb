{
 "cells": [
  {
   "cell_type": "markdown",
   "id": "3477a925",
   "metadata": {},
   "source": [
    "### Introduction\n",
    "\n",
    "\n",
    "**This project aims to use a Logistic Regression Classifier along with traditional machine learning feature extraction techniques, to identify hate speech on the Twitter social media platform. It demonstrates the key processes involved in a text cleaning workflow, as well as the use of  some key functions and classes from the nltk library. Wheras a Logistic Regression classifier may not be the best classifier for this type of task, the project helps us to understand the challenges and possible solutions of the class imbalance problem, as well as the need to emphasize particular evaluation metrics over others, in particular problems.**"
   ]
  },
  {
   "cell_type": "code",
   "execution_count": 1,
   "id": "b7d2cb8b",
   "metadata": {},
   "outputs": [],
   "source": [
    "import pandas as pd\n",
    "import re"
   ]
  },
  {
   "cell_type": "markdown",
   "id": "8e2778db",
   "metadata": {},
   "source": [
    "### 1. Loading of the tweets file"
   ]
  },
  {
   "cell_type": "code",
   "execution_count": 2,
   "id": "4732a08d",
   "metadata": {},
   "outputs": [],
   "source": [
    "df = pd.read_csv(\"TwitterHate.csv\", index_col=0)"
   ]
  },
  {
   "cell_type": "code",
   "execution_count": 3,
   "id": "b6d2215f",
   "metadata": {},
   "outputs": [
    {
     "data": {
      "text/html": [
       "<div>\n",
       "<style scoped>\n",
       "    .dataframe tbody tr th:only-of-type {\n",
       "        vertical-align: middle;\n",
       "    }\n",
       "\n",
       "    .dataframe tbody tr th {\n",
       "        vertical-align: top;\n",
       "    }\n",
       "\n",
       "    .dataframe thead th {\n",
       "        text-align: right;\n",
       "    }\n",
       "</style>\n",
       "<table border=\"1\" class=\"dataframe\">\n",
       "  <thead>\n",
       "    <tr style=\"text-align: right;\">\n",
       "      <th></th>\n",
       "      <th>label</th>\n",
       "      <th>tweet</th>\n",
       "    </tr>\n",
       "    <tr>\n",
       "      <th>id</th>\n",
       "      <th></th>\n",
       "      <th></th>\n",
       "    </tr>\n",
       "  </thead>\n",
       "  <tbody>\n",
       "    <tr>\n",
       "      <th>1</th>\n",
       "      <td>0</td>\n",
       "      <td>@user when a father is dysfunctional and is s...</td>\n",
       "    </tr>\n",
       "    <tr>\n",
       "      <th>2</th>\n",
       "      <td>0</td>\n",
       "      <td>@user @user thanks for #lyft credit i can't us...</td>\n",
       "    </tr>\n",
       "    <tr>\n",
       "      <th>3</th>\n",
       "      <td>0</td>\n",
       "      <td>bihday your majesty</td>\n",
       "    </tr>\n",
       "    <tr>\n",
       "      <th>4</th>\n",
       "      <td>0</td>\n",
       "      <td>#model   i love u take with u all the time in ...</td>\n",
       "    </tr>\n",
       "    <tr>\n",
       "      <th>5</th>\n",
       "      <td>0</td>\n",
       "      <td>factsguide: society now    #motivation</td>\n",
       "    </tr>\n",
       "  </tbody>\n",
       "</table>\n",
       "</div>"
      ],
      "text/plain": [
       "    label                                              tweet\n",
       "id                                                          \n",
       "1       0   @user when a father is dysfunctional and is s...\n",
       "2       0  @user @user thanks for #lyft credit i can't us...\n",
       "3       0                                bihday your majesty\n",
       "4       0  #model   i love u take with u all the time in ...\n",
       "5       0             factsguide: society now    #motivation"
      ]
     },
     "execution_count": 3,
     "metadata": {},
     "output_type": "execute_result"
    }
   ],
   "source": [
    "df.head()"
   ]
  },
  {
   "cell_type": "code",
   "execution_count": 4,
   "id": "0be7a357",
   "metadata": {},
   "outputs": [
    {
     "data": {
      "text/plain": [
       "(31962, 2)"
      ]
     },
     "execution_count": 4,
     "metadata": {},
     "output_type": "execute_result"
    }
   ],
   "source": [
    "df.shape"
   ]
  },
  {
   "cell_type": "code",
   "execution_count": 5,
   "id": "f9c8fe9f",
   "metadata": {},
   "outputs": [
    {
     "data": {
      "text/plain": [
       "0    29720\n",
       "1     2242\n",
       "Name: label, dtype: int64"
      ]
     },
     "execution_count": 5,
     "metadata": {},
     "output_type": "execute_result"
    }
   ],
   "source": [
    "df.label.value_counts()"
   ]
  },
  {
   "cell_type": "code",
   "execution_count": 6,
   "id": "7af5cb30",
   "metadata": {},
   "outputs": [
    {
     "data": {
      "text/plain": [
       "0    0.929854\n",
       "1    0.070146\n",
       "Name: label, dtype: float64"
      ]
     },
     "execution_count": 6,
     "metadata": {},
     "output_type": "execute_result"
    }
   ],
   "source": [
    "df.label.value_counts(normalize=True)\n",
    "#Only 7% of the tweets have been labelled as hate speech.\n",
    "#Classes are heavily imbalanced"
   ]
  },
  {
   "cell_type": "markdown",
   "id": "e98ef66a",
   "metadata": {},
   "source": [
    "### 2. Gettin the tweets into a series for easy text cleanup and manipulation"
   ]
  },
  {
   "cell_type": "code",
   "execution_count": 7,
   "id": "cc99841e",
   "metadata": {},
   "outputs": [
    {
     "data": {
      "text/plain": [
       "id\n",
       "1     @user when a father is dysfunctional and is s...\n",
       "2    @user @user thanks for #lyft credit i can't us...\n",
       "3                                  bihday your majesty\n",
       "4    #model   i love u take with u all the time in ...\n",
       "5               factsguide: society now    #motivation\n",
       "Name: tweet, dtype: object"
      ]
     },
     "execution_count": 7,
     "metadata": {},
     "output_type": "execute_result"
    }
   ],
   "source": [
    "tweets = df.tweet\n",
    "tweets.head()"
   ]
  },
  {
   "cell_type": "markdown",
   "id": "eb08c5b6",
   "metadata": {},
   "source": [
    "###  3. Text Cleaning I - removing user handles and URLs.\n",
    "\n"
   ]
  },
  {
   "cell_type": "code",
   "execution_count": 8,
   "id": "97ca8bc2",
   "metadata": {},
   "outputs": [],
   "source": [
    "def handle_remover(tweet):\n",
    "    \n",
    "    \"\"\"\n",
    "    This function takes a single tweet and removes the user handle from the tweet.\n",
    "    \"\"\"\n",
    "    \n",
    "    tweet = tweet.lower()\n",
    "    pattern = re.compile(\"@[A_Za-z0-9_]+\")\n",
    "    tweet = pattern.sub(\"\", tweet)\n",
    "    \n",
    "    return tweet"
   ]
  },
  {
   "cell_type": "code",
   "execution_count": 9,
   "id": "4a89bc64",
   "metadata": {},
   "outputs": [],
   "source": [
    "def url_remover(tweet):\n",
    "    \"\"\"\n",
    "        This function takes a simgle tweet and replaces any urls within the tweet.\n",
    "    \"\"\"\n",
    "    pattern1 = re.compile(r\"(www\\.\\w+\\.[a-z]+|\\w+\\.com)\")\n",
    "    tweet = pattern1.sub(\"\", tweet)\n",
    "    \n",
    "    \n",
    "        \n",
    "    return tweet\n"
   ]
  },
  {
   "cell_type": "code",
   "execution_count": 10,
   "id": "74ae81e2",
   "metadata": {},
   "outputs": [],
   "source": [
    "cleaned_tweets1 = tweets.apply(handle_remover).apply(url_remover)"
   ]
  },
  {
   "cell_type": "code",
   "execution_count": 11,
   "id": "b107db61",
   "metadata": {},
   "outputs": [
    {
     "data": {
      "text/plain": [
       "id\n",
       "1          when a father is dysfunctional and is so sel...\n",
       "2          thanks for #lyft credit i can't use cause th...\n",
       "3                                      bihday your majesty\n",
       "4        #model   i love u take with u all the time in ...\n",
       "5                   factsguide: society now    #motivation\n",
       "                               ...                        \n",
       "31958    ate  isz that youuu?ððððððð...\n",
       "31959      to see nina turner on the airwaves trying to...\n",
       "31960    listening to sad songs on a monday morning otw...\n",
       "31961     #sikh #temple vandalised in in #calgary, #wso...\n",
       "31962                          thank you  for you follow  \n",
       "Name: tweet, Length: 31962, dtype: object"
      ]
     },
     "execution_count": 11,
     "metadata": {},
     "output_type": "execute_result"
    }
   ],
   "source": [
    "cleaned_tweets1"
   ]
  },
  {
   "cell_type": "markdown",
   "id": "158d5753",
   "metadata": {},
   "source": [
    "### 4. Text Cleaning II - tokenization and removal of stopwords, punctuations and redundant words"
   ]
  },
  {
   "cell_type": "code",
   "execution_count": 12,
   "id": "84b8e904",
   "metadata": {},
   "outputs": [],
   "source": [
    "from nltk.tokenize import TweetTokenizer\n",
    "from nltk.corpus import stopwords\n",
    "from string import punctuation"
   ]
  },
  {
   "cell_type": "code",
   "execution_count": 13,
   "id": "67997206",
   "metadata": {},
   "outputs": [],
   "source": [
    "tt = TweetTokenizer()"
   ]
  },
  {
   "cell_type": "code",
   "execution_count": 14,
   "id": "8e38a415",
   "metadata": {},
   "outputs": [],
   "source": [
    "def remove_redundancies(tweet):\n",
    "    \"\"\"\n",
    "    This function takes a single tweet, removes stopwords, punctuations, single character words, \n",
    "    non - alphanumeric words, some redundant words as well as the # from hastags.\n",
    "    \"\"\"\n",
    "    tweet = re.sub(r\"#+(\\w+)\", r\"\\1\", tweet) \n",
    "    #This function will remove the #symbols from hashtags while preserving the rest of the term.\n",
    "    s_words = stopwords.words(\"english\")\n",
    "    s_words2 = set(s_words).union(set(punctuation))\n",
    "    s_words2 = s_words2.union({\"rt\", \"amp\"}) \n",
    "    #The above line of code will add the terms \"rt\" and \"amp\" to the list of stopwords.\n",
    "    tokenized_tweet = tt.tokenize(tweet)\n",
    "    tweet1 = [word for word in tokenized_tweet if word not in s_words2 and word.isalnum() and len(word) > 1]\n",
    "    #the code above will remove stopwords, words with non - alphanumeric characters and single character words.\n",
    "    \n",
    "    \n",
    "    \n",
    "    return tweet1\n",
    "\n",
    "\n",
    "\n",
    "clean_tweets2 = cleaned_tweets1.apply(remove_redundancies)\n",
    "\n",
    "   \n",
    "#Differes from word tokenize in that it does not separate hashtags"
   ]
  },
  {
   "cell_type": "code",
   "execution_count": 15,
   "id": "71e3d7aa",
   "metadata": {},
   "outputs": [
    {
     "data": {
      "text/plain": [
       "id\n",
       "1    [father, dysfunctional, selfish, drags, kids, ...\n",
       "2    [thanks, lyft, credit, use, cause, offer, whee...\n",
       "3                                    [bihday, majesty]\n",
       "4                       [model, love, take, time, urð]\n",
       "5                    [factsguide, society, motivation]\n",
       "Name: tweet, dtype: object"
      ]
     },
     "execution_count": 15,
     "metadata": {},
     "output_type": "execute_result"
    }
   ],
   "source": [
    "clean_tweets2.head()"
   ]
  },
  {
   "cell_type": "markdown",
   "id": "1bad69a5",
   "metadata": {},
   "source": [
    "### 5.  Getting all words in a single list for word frequency computations"
   ]
  },
  {
   "cell_type": "code",
   "execution_count": 16,
   "id": "11595d40",
   "metadata": {},
   "outputs": [],
   "source": [
    "word_list = [word for tweet in clean_tweets2 for word in tweet]"
   ]
  },
  {
   "cell_type": "code",
   "execution_count": 17,
   "id": "3ae03b6d",
   "metadata": {},
   "outputs": [
    {
     "data": {
      "text/plain": [
       "241691"
      ]
     },
     "execution_count": 17,
     "metadata": {},
     "output_type": "execute_result"
    }
   ],
   "source": [
    "len(word_list)"
   ]
  },
  {
   "cell_type": "code",
   "execution_count": 18,
   "id": "e933b7a2",
   "metadata": {},
   "outputs": [
    {
     "data": {
      "text/plain": [
       "['father',\n",
       " 'dysfunctional',\n",
       " 'selfish',\n",
       " 'drags',\n",
       " 'kids',\n",
       " 'dysfunction',\n",
       " 'run',\n",
       " 'thanks',\n",
       " 'lyft',\n",
       " 'credit',\n",
       " 'use',\n",
       " 'cause',\n",
       " 'offer',\n",
       " 'wheelchair',\n",
       " 'vans',\n",
       " 'pdx',\n",
       " 'disapointed',\n",
       " 'getthanked',\n",
       " 'bihday',\n",
       " 'majesty']"
      ]
     },
     "execution_count": 18,
     "metadata": {},
     "output_type": "execute_result"
    }
   ],
   "source": [
    "word_list[:20]"
   ]
  },
  {
   "cell_type": "code",
   "execution_count": 19,
   "id": "c105f8b3",
   "metadata": {},
   "outputs": [],
   "source": [
    "from nltk import FreqDist"
   ]
  },
  {
   "cell_type": "code",
   "execution_count": 20,
   "id": "4b560281",
   "metadata": {},
   "outputs": [
    {
     "data": {
      "text/plain": [
       "FreqDist({'love': 2680, 'day': 2273, 'happy': 1683, 'time': 1128, 'life': 1103, 'like': 1097, 'today': 1008, 'new': 988, 'positive': 929, 'thankful': 920, ...})"
      ]
     },
     "execution_count": 20,
     "metadata": {},
     "output_type": "execute_result"
    }
   ],
   "source": [
    "dist = FreqDist(word_list)\n",
    "dist"
   ]
  },
  {
   "cell_type": "code",
   "execution_count": 21,
   "id": "6ab78d99",
   "metadata": {},
   "outputs": [
    {
     "data": {
      "text/plain": [
       "[('love', 2680),\n",
       " ('day', 2273),\n",
       " ('happy', 1683),\n",
       " ('time', 1128),\n",
       " ('life', 1103),\n",
       " ('like', 1097),\n",
       " ('today', 1008),\n",
       " ('new', 988),\n",
       " ('positive', 929),\n",
       " ('thankful', 920)]"
      ]
     },
     "execution_count": 21,
     "metadata": {},
     "output_type": "execute_result"
    }
   ],
   "source": [
    "dist.most_common(10)\n",
    "#below are the top 10 most commonly used words in the corpus, along with their frequency of usage."
   ]
  },
  {
   "cell_type": "code",
   "execution_count": 22,
   "id": "ca1186f6",
   "metadata": {},
   "outputs": [
    {
     "data": {
      "image/png": "[encoded data removed]",
      "text/plain": [
       "<Figure size 432x288 with 1 Axes>"
      ]
     },
     "metadata": {
      "needs_background": "light"
     },
     "output_type": "display_data"
    },
    {
     "data": {
      "text/plain": [
       "<AxesSubplot:xlabel='Samples', ylabel='Counts'>"
      ]
     },
     "execution_count": 22,
     "metadata": {},
     "output_type": "execute_result"
    }
   ],
   "source": [
    "dist.plot(10)\n",
    "#Below is a plot of the frequencies of the top 10 most frequent words in the corpus."
   ]
  },
  {
   "cell_type": "markdown",
   "id": "c48b83f6",
   "metadata": {},
   "source": [
    "### 6.  Formatting the data for predictive modelling"
   ]
  },
  {
   "cell_type": "code",
   "execution_count": 23,
   "id": "8d9a3622",
   "metadata": {},
   "outputs": [
    {
     "data": {
      "text/plain": [
       "id\n",
       "1        [father, dysfunctional, selfish, drags, kids, ...\n",
       "2        [thanks, lyft, credit, use, cause, offer, whee...\n",
       "3                                        [bihday, majesty]\n",
       "4                           [model, love, take, time, urð]\n",
       "5                        [factsguide, society, motivation]\n",
       "                               ...                        \n",
       "31958                                    [ate, isz, youuu]\n",
       "31959    [see, nina, turner, airwaves, trying, wrap, ma...\n",
       "31960    [listening, sad, songs, monday, morning, otw, ...\n",
       "31961    [sikh, temple, vandalised, calgary, wso, conde...\n",
       "31962                                      [thank, follow]\n",
       "Name: tweet, Length: 31962, dtype: object"
      ]
     },
     "execution_count": 23,
     "metadata": {},
     "output_type": "execute_result"
    }
   ],
   "source": [
    "clean_tweets2"
   ]
  },
  {
   "cell_type": "code",
   "execution_count": 24,
   "id": "a82b4897",
   "metadata": {},
   "outputs": [],
   "source": [
    "X = clean_tweets2.apply(lambda x: \" \".join(x))"
   ]
  },
  {
   "cell_type": "code",
   "execution_count": 25,
   "id": "076430e6",
   "metadata": {},
   "outputs": [
    {
     "data": {
      "text/plain": [
       "id\n",
       "1    father dysfunctional selfish drags kids dysfun...\n",
       "2    thanks lyft credit use cause offer wheelchair ...\n",
       "3                                       bihday majesty\n",
       "4                             model love take time urð\n",
       "5                        factsguide society motivation\n",
       "Name: tweet, dtype: object"
      ]
     },
     "execution_count": 25,
     "metadata": {},
     "output_type": "execute_result"
    }
   ],
   "source": [
    "X.head()\n",
    "#Instead of a Series of lists we have a Series of strings.\n",
    "#This can now be operated on by our Feature Extraction algorithm."
   ]
  },
  {
   "cell_type": "code",
   "execution_count": 26,
   "id": "897d997d",
   "metadata": {},
   "outputs": [],
   "source": [
    "y = df.label"
   ]
  },
  {
   "cell_type": "code",
   "execution_count": 27,
   "id": "c72a93d8",
   "metadata": {},
   "outputs": [
    {
     "name": "stdout",
     "output_type": "stream",
     "text": [
      "31962 31962\n"
     ]
    }
   ],
   "source": [
    "print(len(X), len(y))"
   ]
  },
  {
   "cell_type": "code",
   "execution_count": 28,
   "id": "556d60e1",
   "metadata": {},
   "outputs": [],
   "source": [
    "data2 = pd.merge(X, y, left_index=True, right_index=True)\n",
    "final_data = data2[data2.tweet.apply(len) != 0]\n",
    "#This will eliminate all the entries in the series of documents that are empty strings after text preprocessing."
   ]
  },
  {
   "cell_type": "code",
   "execution_count": 29,
   "id": "495df5c1",
   "metadata": {},
   "outputs": [
    {
     "data": {
      "text/plain": [
       "0.9988423753206933"
      ]
     },
     "execution_count": 29,
     "metadata": {},
     "output_type": "execute_result"
    }
   ],
   "source": [
    "len(final_data) / len(data2)\n",
    "#This shows we have retained 99.88% of the data.\n",
    "#1.2 % of the documents resulted in empty strings after preprocessing."
   ]
  },
  {
   "cell_type": "code",
   "execution_count": 30,
   "id": "5a8f060d",
   "metadata": {},
   "outputs": [
    {
     "data": {
      "text/html": [
       "<div>\n",
       "<style scoped>\n",
       "    .dataframe tbody tr th:only-of-type {\n",
       "        vertical-align: middle;\n",
       "    }\n",
       "\n",
       "    .dataframe tbody tr th {\n",
       "        vertical-align: top;\n",
       "    }\n",
       "\n",
       "    .dataframe thead th {\n",
       "        text-align: right;\n",
       "    }\n",
       "</style>\n",
       "<table border=\"1\" class=\"dataframe\">\n",
       "  <thead>\n",
       "    <tr style=\"text-align: right;\">\n",
       "      <th></th>\n",
       "      <th>tweet</th>\n",
       "      <th>label</th>\n",
       "    </tr>\n",
       "    <tr>\n",
       "      <th>id</th>\n",
       "      <th></th>\n",
       "      <th></th>\n",
       "    </tr>\n",
       "  </thead>\n",
       "  <tbody>\n",
       "    <tr>\n",
       "      <th>1</th>\n",
       "      <td>father dysfunctional selfish drags kids dysfun...</td>\n",
       "      <td>0</td>\n",
       "    </tr>\n",
       "    <tr>\n",
       "      <th>2</th>\n",
       "      <td>thanks lyft credit use cause offer wheelchair ...</td>\n",
       "      <td>0</td>\n",
       "    </tr>\n",
       "    <tr>\n",
       "      <th>3</th>\n",
       "      <td>bihday majesty</td>\n",
       "      <td>0</td>\n",
       "    </tr>\n",
       "    <tr>\n",
       "      <th>4</th>\n",
       "      <td>model love take time urð</td>\n",
       "      <td>0</td>\n",
       "    </tr>\n",
       "    <tr>\n",
       "      <th>5</th>\n",
       "      <td>factsguide society motivation</td>\n",
       "      <td>0</td>\n",
       "    </tr>\n",
       "  </tbody>\n",
       "</table>\n",
       "</div>"
      ],
      "text/plain": [
       "                                                tweet  label\n",
       "id                                                          \n",
       "1   father dysfunctional selfish drags kids dysfun...      0\n",
       "2   thanks lyft credit use cause offer wheelchair ...      0\n",
       "3                                      bihday majesty      0\n",
       "4                            model love take time urð      0\n",
       "5                       factsguide society motivation      0"
      ]
     },
     "execution_count": 30,
     "metadata": {},
     "output_type": "execute_result"
    }
   ],
   "source": [
    "final_data.head()"
   ]
  },
  {
   "cell_type": "code",
   "execution_count": 31,
   "id": "1eb2b42b",
   "metadata": {},
   "outputs": [
    {
     "data": {
      "text/plain": [
       "0    0.929898\n",
       "1    0.070102\n",
       "Name: label, dtype: float64"
      ]
     },
     "execution_count": 31,
     "metadata": {},
     "output_type": "execute_result"
    }
   ],
   "source": [
    "final_data.label.value_counts(normalize=True)"
   ]
  },
  {
   "cell_type": "markdown",
   "id": "6149a483",
   "metadata": {},
   "source": [
    "### 7. Data Splitting and Feature Extraction"
   ]
  },
  {
   "cell_type": "code",
   "execution_count": 32,
   "id": "036467e6",
   "metadata": {},
   "outputs": [],
   "source": [
    "from sklearn.model_selection import train_test_split\n",
    "from sklearn.feature_extraction.text import TfidfVectorizer\n"
   ]
  },
  {
   "cell_type": "code",
   "execution_count": 33,
   "id": "6e193d27",
   "metadata": {},
   "outputs": [],
   "source": [
    "X_train, X_test, y_train, y_test = train_test_split(final_data.tweet, \n",
    "                                                    final_data.label, stratify=final_data.label)"
   ]
  },
  {
   "cell_type": "code",
   "execution_count": 34,
   "id": "bfdfd3ad",
   "metadata": {},
   "outputs": [
    {
     "name": "stdout",
     "output_type": "stream",
     "text": [
      "(23943,) (23943,) (7982,) (7982,)\n"
     ]
    }
   ],
   "source": [
    "print(X_train.shape, y_train.shape, X_test.shape, y_test.shape)"
   ]
  },
  {
   "cell_type": "code",
   "execution_count": 35,
   "id": "0871aa80",
   "metadata": {},
   "outputs": [
    {
     "data": {
      "text/plain": [
       "0    0.929917\n",
       "1    0.070083\n",
       "Name: label, dtype: float64"
      ]
     },
     "execution_count": 35,
     "metadata": {},
     "output_type": "execute_result"
    }
   ],
   "source": [
    "y_train.value_counts(normalize=True)"
   ]
  },
  {
   "cell_type": "code",
   "execution_count": 36,
   "id": "5376a674",
   "metadata": {},
   "outputs": [
    {
     "data": {
      "text/plain": [
       "0    0.929842\n",
       "1    0.070158\n",
       "Name: label, dtype: float64"
      ]
     },
     "execution_count": 36,
     "metadata": {},
     "output_type": "execute_result"
    }
   ],
   "source": [
    "y_test.value_counts(normalize=True)\n",
    "#The distribution of data in train and test sets are equal. This is very important."
   ]
  },
  {
   "cell_type": "code",
   "execution_count": 37,
   "id": "bd2f7f45",
   "metadata": {},
   "outputs": [],
   "source": [
    "tfidf = TfidfVectorizer(max_features=5000)"
   ]
  },
  {
   "cell_type": "code",
   "execution_count": 38,
   "id": "92672961",
   "metadata": {},
   "outputs": [],
   "source": [
    "train_matrix = tfidf.fit_transform(X_train)"
   ]
  },
  {
   "cell_type": "code",
   "execution_count": 39,
   "id": "5ebf0424",
   "metadata": {},
   "outputs": [],
   "source": [
    "test_matrix = tfidf.transform(X_test)"
   ]
  },
  {
   "cell_type": "code",
   "execution_count": 40,
   "id": "00ac2822",
   "metadata": {},
   "outputs": [
    {
     "data": {
      "text/plain": [
       "<23943x5000 sparse matrix of type '<class 'numpy.float64'>'\n",
       "\twith 135083 stored elements in Compressed Sparse Row format>"
      ]
     },
     "execution_count": 40,
     "metadata": {},
     "output_type": "execute_result"
    }
   ],
   "source": [
    "train_matrix"
   ]
  },
  {
   "cell_type": "code",
   "execution_count": 41,
   "id": "87e60ad4",
   "metadata": {},
   "outputs": [
    {
     "data": {
      "text/plain": [
       "<7982x5000 sparse matrix of type '<class 'numpy.float64'>'\n",
       "\twith 43570 stored elements in Compressed Sparse Row format>"
      ]
     },
     "execution_count": 41,
     "metadata": {},
     "output_type": "execute_result"
    }
   ],
   "source": [
    "test_matrix"
   ]
  },
  {
   "cell_type": "markdown",
   "id": "a4a0f9fd",
   "metadata": {},
   "source": [
    "### 8. Model Building and Training (Part 1)"
   ]
  },
  {
   "cell_type": "code",
   "execution_count": 42,
   "id": "afee1e61",
   "metadata": {},
   "outputs": [],
   "source": [
    "from sklearn.linear_model import LogisticRegression\n",
    "from sklearn.metrics import accuracy_score, precision_score, f1_score, confusion_matrix, recall_score"
   ]
  },
  {
   "cell_type": "code",
   "execution_count": 43,
   "id": "eff8074c",
   "metadata": {},
   "outputs": [],
   "source": [
    "clf = LogisticRegression()"
   ]
  },
  {
   "cell_type": "code",
   "execution_count": 44,
   "id": "09919c58",
   "metadata": {},
   "outputs": [
    {
     "data": {
      "text/plain": [
       "LogisticRegression()"
      ]
     },
     "execution_count": 44,
     "metadata": {},
     "output_type": "execute_result"
    }
   ],
   "source": [
    "clf.fit(train_matrix, y_train)"
   ]
  },
  {
   "cell_type": "code",
   "execution_count": 45,
   "id": "6da77b40",
   "metadata": {},
   "outputs": [],
   "source": [
    "train_predictions = clf.predict(train_matrix)\n",
    "test_predictions = clf.predict(test_matrix)\n"
   ]
  },
  {
   "cell_type": "code",
   "execution_count": 46,
   "id": "145f3bec",
   "metadata": {},
   "outputs": [
    {
     "data": {
      "text/plain": [
       "array([[22233,    32],\n",
       "       [ 1045,   633]], dtype=int64)"
      ]
     },
     "execution_count": 46,
     "metadata": {},
     "output_type": "execute_result"
    }
   ],
   "source": [
    "confusion_matrix(y_train, train_predictions)"
   ]
  },
  {
   "cell_type": "code",
   "execution_count": 47,
   "id": "3406faf9",
   "metadata": {},
   "outputs": [
    {
     "data": {
      "text/plain": [
       "0.9550181681493547"
      ]
     },
     "execution_count": 47,
     "metadata": {},
     "output_type": "execute_result"
    }
   ],
   "source": [
    "accuracy_score(y_train, train_predictions)"
   ]
  },
  {
   "cell_type": "code",
   "execution_count": 48,
   "id": "097c27d4",
   "metadata": {},
   "outputs": [
    {
     "data": {
      "text/plain": [
       "0.3772348033373063"
      ]
     },
     "execution_count": 48,
     "metadata": {},
     "output_type": "execute_result"
    }
   ],
   "source": [
    "recall_score(y_train, train_predictions)"
   ]
  },
  {
   "cell_type": "code",
   "execution_count": 49,
   "id": "c45f41b3",
   "metadata": {},
   "outputs": [
    {
     "data": {
      "text/plain": [
       "0.5403329065300896"
      ]
     },
     "execution_count": 49,
     "metadata": {},
     "output_type": "execute_result"
    }
   ],
   "source": [
    "f1_score(y_train, train_predictions)"
   ]
  },
  {
   "cell_type": "code",
   "execution_count": 50,
   "id": "037b3fc1",
   "metadata": {},
   "outputs": [
    {
     "name": "stdout",
     "output_type": "stream",
     "text": [
      "The accuracy on the training set is 96%\n",
      "The recall on the training set is 38%\n",
      "The f1 score on the training set is 54%\n"
     ]
    }
   ],
   "source": [
    "print(\"The accuracy on the training set is {}%\".format(round(accuracy_score(y_train, train_predictions) * 100)))\n",
    "print(\"The recall on the training set is {}%\".format(round(recall_score(y_train, train_predictions) * 100)))\n",
    "print(\"The f1 score on the training set is {}%\".format(round(f1_score(y_train, train_predictions) * 100)))\n"
   ]
  },
  {
   "cell_type": "markdown",
   "id": "0516d871",
   "metadata": {},
   "source": [
    "**Despite the relatively high accuracy (95%), our model does poorly on the training set and is only capable of detecting 37% of the occurences of hate speech within the training set. The model is severely underfitting and is therefore not a good model for the task at hand.**"
   ]
  },
  {
   "cell_type": "markdown",
   "id": "aa582408",
   "metadata": {},
   "source": [
    "### 9. Model Building and Training (Part 2)"
   ]
  },
  {
   "cell_type": "code",
   "execution_count": 51,
   "id": "f01db539",
   "metadata": {},
   "outputs": [],
   "source": [
    "clf2 = LogisticRegression(class_weight=\"balanced\")"
   ]
  },
  {
   "cell_type": "code",
   "execution_count": 52,
   "id": "3eeb8bac",
   "metadata": {},
   "outputs": [
    {
     "data": {
      "text/plain": [
       "LogisticRegression(class_weight='balanced')"
      ]
     },
     "execution_count": 52,
     "metadata": {},
     "output_type": "execute_result"
    }
   ],
   "source": [
    "clf2.fit(train_matrix, y_train)"
   ]
  },
  {
   "cell_type": "code",
   "execution_count": 53,
   "id": "ff98e23a",
   "metadata": {},
   "outputs": [],
   "source": [
    "train_predictions2 = clf2.predict(train_matrix)\n",
    "test_predictions2 = clf2.predict(test_matrix)"
   ]
  },
  {
   "cell_type": "code",
   "execution_count": 54,
   "id": "b25d0fae",
   "metadata": {},
   "outputs": [
    {
     "data": {
      "text/plain": [
       "array([[21077,  1188],\n",
       "       [   36,  1642]], dtype=int64)"
      ]
     },
     "execution_count": 54,
     "metadata": {},
     "output_type": "execute_result"
    }
   ],
   "source": [
    "confusion_matrix(y_train, train_predictions2)"
   ]
  },
  {
   "cell_type": "code",
   "execution_count": 55,
   "id": "d3caf8ef",
   "metadata": {},
   "outputs": [
    {
     "data": {
      "text/plain": [
       "0.9488785866432777"
      ]
     },
     "execution_count": 55,
     "metadata": {},
     "output_type": "execute_result"
    }
   ],
   "source": [
    "accuracy_score(y_train, train_predictions2)"
   ]
  },
  {
   "cell_type": "code",
   "execution_count": 56,
   "id": "a8450cc3",
   "metadata": {},
   "outputs": [
    {
     "data": {
      "text/plain": [
       "0.9785458879618594"
      ]
     },
     "execution_count": 56,
     "metadata": {},
     "output_type": "execute_result"
    }
   ],
   "source": [
    "recall_score(y_train, train_predictions2)"
   ]
  },
  {
   "cell_type": "code",
   "execution_count": 57,
   "id": "b252d609",
   "metadata": {},
   "outputs": [
    {
     "data": {
      "text/plain": [
       "0.7284826974267968"
      ]
     },
     "execution_count": 57,
     "metadata": {},
     "output_type": "execute_result"
    }
   ],
   "source": [
    "f1_score(y_train, train_predictions2)"
   ]
  },
  {
   "cell_type": "code",
   "execution_count": 58,
   "id": "29d53f61",
   "metadata": {},
   "outputs": [
    {
     "data": {
      "text/plain": [
       "0.5802120141342756"
      ]
     },
     "execution_count": 58,
     "metadata": {},
     "output_type": "execute_result"
    }
   ],
   "source": [
    "precision_score(y_train, train_predictions2)"
   ]
  },
  {
   "cell_type": "code",
   "execution_count": 59,
   "id": "0378ea8b",
   "metadata": {},
   "outputs": [
    {
     "name": "stdout",
     "output_type": "stream",
     "text": [
      "The accuracy on the training set is 95%\n",
      "The recall on the training set is 98%\n",
      "The f1 score on the training set is 73%\n"
     ]
    }
   ],
   "source": [
    "print(\"The accuracy on the training set is {}%\".format(round(accuracy_score(y_train, train_predictions2) * 100)))\n",
    "print(\"The recall on the training set is {}%\".format(round(recall_score(y_train, train_predictions2) * 100)))\n",
    "print(\"The f1 score on the training set is {}%\".format(round(f1_score(y_train, train_predictions2) * 100)))\n"
   ]
  },
  {
   "cell_type": "markdown",
   "id": "7c74db3d",
   "metadata": {},
   "source": [
    "**This model which attempts to balance out the imbalanced classes, does a much better job at detecting hate speech on the platform. It actually detects 97% of hate speech, significantly more than the 37% detected by the model which did not compensate for the imbalanced classes. This model, however, produces a lot more false postives, that is a lot of non - hate speech is incorrectly being flagged as hate speech. This is evident in the precision score of 58% along with an f1 score (73%) much lower than the recall score.**"
   ]
  },
  {
   "cell_type": "markdown",
   "id": "d2833695",
   "metadata": {},
   "source": [
    "### Evaluation of Model 2 on the test set"
   ]
  },
  {
   "cell_type": "code",
   "execution_count": 60,
   "id": "3b51e7e9",
   "metadata": {},
   "outputs": [
    {
     "data": {
      "text/plain": [
       "0.9249561513405161"
      ]
     },
     "execution_count": 60,
     "metadata": {},
     "output_type": "execute_result"
    }
   ],
   "source": [
    "accuracy_score(y_test, test_predictions2)"
   ]
  },
  {
   "cell_type": "code",
   "execution_count": 61,
   "id": "48f07b76",
   "metadata": {},
   "outputs": [
    {
     "data": {
      "text/plain": [
       "0.7607142857142857"
      ]
     },
     "execution_count": 61,
     "metadata": {},
     "output_type": "execute_result"
    }
   ],
   "source": [
    "recall_score(y_test, test_predictions2)"
   ]
  },
  {
   "cell_type": "code",
   "execution_count": 62,
   "id": "60abf764",
   "metadata": {},
   "outputs": [
    {
     "data": {
      "text/plain": [
       "0.4781144781144781"
      ]
     },
     "execution_count": 62,
     "metadata": {},
     "output_type": "execute_result"
    }
   ],
   "source": [
    "precision_score(y_test, test_predictions2)"
   ]
  },
  {
   "cell_type": "code",
   "execution_count": 63,
   "id": "ca095aec",
   "metadata": {},
   "outputs": [
    {
     "data": {
      "text/plain": [
       "0.5871812543073742"
      ]
     },
     "execution_count": 63,
     "metadata": {},
     "output_type": "execute_result"
    }
   ],
   "source": [
    "f1_score(y_test, test_predictions2)"
   ]
  },
  {
   "cell_type": "code",
   "execution_count": 64,
   "id": "38e8061c",
   "metadata": {},
   "outputs": [
    {
     "name": "stdout",
     "output_type": "stream",
     "text": [
      "The accuracy on the test set is 92%\n",
      "The recall on the test set is 76%\n",
      "The f1 score on the test set is 59%\n"
     ]
    }
   ],
   "source": [
    "print(\"The accuracy on the test set is {}%\".format(round(accuracy_score(y_test, test_predictions2) * 100)))\n",
    "print(\"The recall on the test set is {}%\".format(round(recall_score(y_test, test_predictions2) * 100)))\n",
    "print(\"The f1 score on the test set is {}%\".format(round(f1_score(y_test, test_predictions2) * 100)))\n"
   ]
  },
  {
   "cell_type": "markdown",
   "id": "7d8e9c9b",
   "metadata": {},
   "source": [
    "**In addition to the high false positive rate mentioned above, Model 2 seems also to overfit to the training set as it is giving much better recall and precision on the training set as opposed to the test set. The recall on the training set is 97% while on the test set it is 78%. This problem is quite significant as it suggests that our model may not generalize well to previously unseen data. We therefore need to tune our hyperparamters and apply some degree of regularization.**"
   ]
  },
  {
   "cell_type": "markdown",
   "id": "a2527386",
   "metadata": {},
   "source": [
    "### 10. Hyperparameter Tuning"
   ]
  },
  {
   "cell_type": "code",
   "execution_count": 65,
   "id": "9b55e7e4",
   "metadata": {},
   "outputs": [],
   "source": [
    "from sklearn.model_selection import GridSearchCV, StratifiedKFold"
   ]
  },
  {
   "cell_type": "code",
   "execution_count": 66,
   "id": "6e4dac1a",
   "metadata": {},
   "outputs": [],
   "source": [
    "skf = StratifiedKFold(n_splits = 4)"
   ]
  },
  {
   "cell_type": "code",
   "execution_count": 67,
   "id": "2884d75e",
   "metadata": {},
   "outputs": [],
   "source": [
    "clf3 = LogisticRegression(max_iter=500, solver=\"liblinear\", class_weight=\"balanced\")\n"
   ]
  },
  {
   "cell_type": "code",
   "execution_count": 68,
   "id": "1258b081",
   "metadata": {},
   "outputs": [],
   "source": [
    "parameters = {\"C\": [0.05, 0.075, 0.1, 0.125], \"penalty\": [\"l2\", \"l1\"] }\n"
   ]
  },
  {
   "cell_type": "code",
   "execution_count": 69,
   "id": "f4e79190",
   "metadata": {},
   "outputs": [],
   "source": [
    "gs = GridSearchCV(clf3, param_grid=parameters, cv=skf, scoring=\"recall\")"
   ]
  },
  {
   "cell_type": "code",
   "execution_count": 70,
   "id": "563c5013",
   "metadata": {},
   "outputs": [
    {
     "data": {
      "text/plain": [
       "GridSearchCV(cv=StratifiedKFold(n_splits=4, random_state=None, shuffle=False),\n",
       "             estimator=LogisticRegression(class_weight='balanced', max_iter=500,\n",
       "                                          solver='liblinear'),\n",
       "             param_grid={'C': [0.05, 0.075, 0.1, 0.125],\n",
       "                         'penalty': ['l2', 'l1']},\n",
       "             scoring='recall')"
      ]
     },
     "execution_count": 70,
     "metadata": {},
     "output_type": "execute_result"
    }
   ],
   "source": [
    "gs.fit(train_matrix, y_train)"
   ]
  },
  {
   "cell_type": "code",
   "execution_count": 71,
   "id": "e3cdeda2",
   "metadata": {},
   "outputs": [
    {
     "data": {
      "text/plain": [
       "{'C': 0.125, 'penalty': 'l2'}"
      ]
     },
     "execution_count": 71,
     "metadata": {},
     "output_type": "execute_result"
    }
   ],
   "source": [
    "gs.best_params_\n",
    "#Despite 0.125 being a terminal value in the parameter values given to C, higher values were not given.\n",
    "#This it because it resulted in a model that did not generalize as well to previously unseen data."
   ]
  },
  {
   "cell_type": "code",
   "execution_count": 72,
   "id": "80643495",
   "metadata": {},
   "outputs": [
    {
     "data": {
      "text/plain": [
       "LogisticRegression(C=0.125, class_weight='balanced', max_iter=500,\n",
       "                   solver='liblinear')"
      ]
     },
     "execution_count": 72,
     "metadata": {},
     "output_type": "execute_result"
    }
   ],
   "source": [
    "clf_final = gs.best_estimator_\n",
    "clf_final"
   ]
  },
  {
   "cell_type": "markdown",
   "id": "b06dc982",
   "metadata": {},
   "source": [
    "### Analysis of the performance of the classifier on the training set"
   ]
  },
  {
   "cell_type": "code",
   "execution_count": 73,
   "id": "92b95e78",
   "metadata": {},
   "outputs": [],
   "source": [
    "train_predictions3 = clf_final.predict(train_matrix)"
   ]
  },
  {
   "cell_type": "code",
   "execution_count": 74,
   "id": "ba7ecc7c",
   "metadata": {},
   "outputs": [
    {
     "data": {
      "text/plain": [
       "0.9100119189511323"
      ]
     },
     "execution_count": 74,
     "metadata": {},
     "output_type": "execute_result"
    }
   ],
   "source": [
    "recall_score(y_train, train_predictions3)"
   ]
  },
  {
   "cell_type": "code",
   "execution_count": 75,
   "id": "13896f06",
   "metadata": {},
   "outputs": [
    {
     "data": {
      "text/plain": [
       "array([[20840,  1425],\n",
       "       [  151,  1527]], dtype=int64)"
      ]
     },
     "execution_count": 75,
     "metadata": {},
     "output_type": "execute_result"
    }
   ],
   "source": [
    "confusion_matrix(y_train, train_predictions3)"
   ]
  },
  {
   "cell_type": "code",
   "execution_count": 76,
   "id": "2a1cf838",
   "metadata": {},
   "outputs": [
    {
     "data": {
      "text/plain": [
       "0.659611231101512"
      ]
     },
     "execution_count": 76,
     "metadata": {},
     "output_type": "execute_result"
    }
   ],
   "source": [
    "f1_score(y_train, train_predictions3,)"
   ]
  },
  {
   "cell_type": "code",
   "execution_count": 77,
   "id": "ae3f9958",
   "metadata": {},
   "outputs": [
    {
     "name": "stdout",
     "output_type": "stream",
     "text": [
      "The accuracy on the training set is 93%\n",
      "The recall on the training set is 91%\n",
      "The f1 score on the training set is 66%\n"
     ]
    }
   ],
   "source": [
    "print(\"The accuracy on the training set is {}%\".format(round(accuracy_score(y_train, train_predictions3) * 100)))\n",
    "print(\"The recall on the training set is {}%\".format(round(recall_score(y_train, train_predictions3) * 100)))\n",
    "print(\"The f1 score on the training set is {}%\".format(round(f1_score(y_train, train_predictions3) * 100)))"
   ]
  },
  {
   "cell_type": "markdown",
   "id": "bc41976f",
   "metadata": {},
   "source": [
    "### Analysis of the performance of the classifier on the test set"
   ]
  },
  {
   "cell_type": "code",
   "execution_count": 78,
   "id": "01125c0f",
   "metadata": {},
   "outputs": [],
   "source": [
    "test_predictions3 = clf_final.predict(test_matrix)"
   ]
  },
  {
   "cell_type": "code",
   "execution_count": 79,
   "id": "443db6a6",
   "metadata": {},
   "outputs": [
    {
     "data": {
      "text/plain": [
       "0.7678571428571429"
      ]
     },
     "execution_count": 79,
     "metadata": {},
     "output_type": "execute_result"
    }
   ],
   "source": [
    "recall_score(y_test, test_predictions3)"
   ]
  },
  {
   "cell_type": "code",
   "execution_count": 80,
   "id": "9101f3a5",
   "metadata": {},
   "outputs": [
    {
     "data": {
      "text/plain": [
       "array([[6897,  525],\n",
       "       [ 130,  430]], dtype=int64)"
      ]
     },
     "execution_count": 80,
     "metadata": {},
     "output_type": "execute_result"
    }
   ],
   "source": [
    "confusion_matrix(y_test, test_predictions3)"
   ]
  },
  {
   "cell_type": "code",
   "execution_count": 81,
   "id": "3d441806",
   "metadata": {},
   "outputs": [
    {
     "data": {
      "text/plain": [
       "0.5676567656765676"
      ]
     },
     "execution_count": 81,
     "metadata": {},
     "output_type": "execute_result"
    }
   ],
   "source": [
    "f1_score(y_test, test_predictions3,)"
   ]
  },
  {
   "cell_type": "code",
   "execution_count": 82,
   "id": "9447a8e0",
   "metadata": {},
   "outputs": [
    {
     "data": {
      "text/plain": [
       "0.450261780104712"
      ]
     },
     "execution_count": 82,
     "metadata": {},
     "output_type": "execute_result"
    }
   ],
   "source": [
    "precision_score(y_test, test_predictions3)"
   ]
  },
  {
   "cell_type": "code",
   "execution_count": 83,
   "id": "2cf80bdc",
   "metadata": {},
   "outputs": [
    {
     "name": "stdout",
     "output_type": "stream",
     "text": [
      "The accuracy on the test set is 92%\n",
      "The recall on the test set is 77%\n",
      "The f1 score on the test set is 57%\n"
     ]
    }
   ],
   "source": [
    "print(\"The accuracy on the test set is {}%\".format(round(accuracy_score(y_test, test_predictions3) * 100)))\n",
    "print(\"The recall on the test set is {}%\".format(round(recall_score(y_test, test_predictions3) * 100)))\n",
    "print(\"The f1 score on the test set is {}%\".format(round(f1_score(y_test, test_predictions3) * 100)))\n"
   ]
  },
  {
   "cell_type": "markdown",
   "id": "b2a5b159",
   "metadata": {},
   "source": [
    "### 11. Conclusions"
   ]
  },
  {
   "cell_type": "markdown",
   "id": "fd6d913e",
   "metadata": {},
   "source": [
    "**- After cross validation and regularization we have produed a classifier which generalizes slightly better to the test set. We see that the recall on the training set is 0.91 and on the test set is 0.8. These values are closer together than the values of 0.97 and 0.78 that we obtained using the unregularixed model**\n",
    "\n",
    "**- We also see that the model gives f1 scores of 0.66 and 0.57 on the training and test sets respectively. These values are also closer than the f1 score for the training and test sets  (0.73 and 0.58 respectively) seen on the non-regularized model trained without cross validation.**\n",
    "\n",
    "**- This model is significantly better than the unregularized and non - cross validated model for two reasons:**\n",
    "\n",
    "   - first, it gives a slightly higher recall score on the test set (80% compared to 78%). This means it is better at identifying all the occurences of hate speech in previously unseen documents.\n",
    "   - Second, the results on the training and test sets are more similar. This tells us that the model will generalize better to unseen data, thus we can expect to see similar results if the modeled is used in production.\n",
    "  "
   ]
  }
 ],
 "metadata": {
  "kernelspec": {
   "display_name": "Python 3 (ipykernel)",
   "language": "python",
   "name": "python3"
  },
  "language_info": {
   "codemirror_mode": {
    "name": "ipython",
    "version": 3
   },
   "file_extension": ".py",
   "mimetype": "text/x-python",
   "name": "python",
   "nbconvert_exporter": "python",
   "pygments_lexer": "ipython3",
   "version": "3.8.8"
  }
 },
 "nbformat": 4,
 "nbformat_minor": 5
}
